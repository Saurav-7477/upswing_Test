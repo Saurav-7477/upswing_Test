{
 "cells": [
  {
   "cell_type": "markdown",
   "id": "627af114-b1df-4f13-9a95-b98a311e2ce6",
   "metadata": {},
   "source": [
    "### Objective: Evaluate candidates' ability to analyze, interpret, and visualize data relevant to the hospitality industry. The task will focus on customer satisfaction and operational efficiency using a publicly available dataset."
   ]
  },
  {
   "cell_type": "markdown",
   "id": "2af4e401-4061-4afe-863e-e6f2bc15311f",
   "metadata": {},
   "source": [
    "# Data Understanding and Preprocessing:\n",
    "Load the dataset and provide a summary of its structure (number of rows, columns, data types, and missing values).\n",
    "Perform data cleaning:\n",
    "Handle missing values appropriately.\n",
    "Convert data types if necessary.\n",
    "Create any new features you think might be useful."
   ]
  },
  {
   "cell_type": "code",
   "execution_count": 1,
   "id": "61fad087-382c-4d4a-95fe-424f52baacf9",
   "metadata": {},
   "outputs": [],
   "source": [
    "# Import Liabraries "
   ]
  },
  {
   "cell_type": "code",
   "execution_count": 2,
   "id": "415091aa-5d00-48f1-bdff-3b5f2f3b5b07",
   "metadata": {},
   "outputs": [],
   "source": [
    "import pandas as pd "
   ]
  },
  {
   "cell_type": "code",
   "execution_count": 4,
   "id": "c1f54d18-3f68-4538-af3b-6a1cc173e7c9",
   "metadata": {},
   "outputs": [
    {
     "data": {
      "text/html": [
       "<div>\n",
       "<style scoped>\n",
       "    .dataframe tbody tr th:only-of-type {\n",
       "        vertical-align: middle;\n",
       "    }\n",
       "\n",
       "    .dataframe tbody tr th {\n",
       "        vertical-align: top;\n",
       "    }\n",
       "\n",
       "    .dataframe thead th {\n",
       "        text-align: right;\n",
       "    }\n",
       "</style>\n",
       "<table border=\"1\" class=\"dataframe\">\n",
       "  <thead>\n",
       "    <tr style=\"text-align: right;\">\n",
       "      <th></th>\n",
       "      <th>hotel</th>\n",
       "      <th>is_canceled</th>\n",
       "      <th>lead_time</th>\n",
       "      <th>arrival_date_year</th>\n",
       "      <th>arrival_date_month</th>\n",
       "      <th>arrival_date_week_number</th>\n",
       "      <th>arrival_date_day_of_month</th>\n",
       "      <th>stays_in_weekend_nights</th>\n",
       "      <th>stays_in_week_nights</th>\n",
       "      <th>adults</th>\n",
       "      <th>...</th>\n",
       "      <th>deposit_type</th>\n",
       "      <th>agent</th>\n",
       "      <th>company</th>\n",
       "      <th>days_in_waiting_list</th>\n",
       "      <th>customer_type</th>\n",
       "      <th>adr</th>\n",
       "      <th>required_car_parking_spaces</th>\n",
       "      <th>total_of_special_requests</th>\n",
       "      <th>reservation_status</th>\n",
       "      <th>reservation_status_date</th>\n",
       "    </tr>\n",
       "  </thead>\n",
       "  <tbody>\n",
       "    <tr>\n",
       "      <th>0</th>\n",
       "      <td>Resort Hotel</td>\n",
       "      <td>0</td>\n",
       "      <td>342</td>\n",
       "      <td>2015</td>\n",
       "      <td>July</td>\n",
       "      <td>27</td>\n",
       "      <td>1</td>\n",
       "      <td>0</td>\n",
       "      <td>0</td>\n",
       "      <td>2</td>\n",
       "      <td>...</td>\n",
       "      <td>No Deposit</td>\n",
       "      <td>NaN</td>\n",
       "      <td>NaN</td>\n",
       "      <td>0</td>\n",
       "      <td>Transient</td>\n",
       "      <td>0.0</td>\n",
       "      <td>0</td>\n",
       "      <td>0</td>\n",
       "      <td>Check-Out</td>\n",
       "      <td>2015-07-01</td>\n",
       "    </tr>\n",
       "    <tr>\n",
       "      <th>1</th>\n",
       "      <td>Resort Hotel</td>\n",
       "      <td>0</td>\n",
       "      <td>737</td>\n",
       "      <td>2015</td>\n",
       "      <td>July</td>\n",
       "      <td>27</td>\n",
       "      <td>1</td>\n",
       "      <td>0</td>\n",
       "      <td>0</td>\n",
       "      <td>2</td>\n",
       "      <td>...</td>\n",
       "      <td>No Deposit</td>\n",
       "      <td>NaN</td>\n",
       "      <td>NaN</td>\n",
       "      <td>0</td>\n",
       "      <td>Transient</td>\n",
       "      <td>0.0</td>\n",
       "      <td>0</td>\n",
       "      <td>0</td>\n",
       "      <td>Check-Out</td>\n",
       "      <td>2015-07-01</td>\n",
       "    </tr>\n",
       "    <tr>\n",
       "      <th>2</th>\n",
       "      <td>Resort Hotel</td>\n",
       "      <td>0</td>\n",
       "      <td>7</td>\n",
       "      <td>2015</td>\n",
       "      <td>July</td>\n",
       "      <td>27</td>\n",
       "      <td>1</td>\n",
       "      <td>0</td>\n",
       "      <td>1</td>\n",
       "      <td>1</td>\n",
       "      <td>...</td>\n",
       "      <td>No Deposit</td>\n",
       "      <td>NaN</td>\n",
       "      <td>NaN</td>\n",
       "      <td>0</td>\n",
       "      <td>Transient</td>\n",
       "      <td>75.0</td>\n",
       "      <td>0</td>\n",
       "      <td>0</td>\n",
       "      <td>Check-Out</td>\n",
       "      <td>2015-07-02</td>\n",
       "    </tr>\n",
       "    <tr>\n",
       "      <th>3</th>\n",
       "      <td>Resort Hotel</td>\n",
       "      <td>0</td>\n",
       "      <td>13</td>\n",
       "      <td>2015</td>\n",
       "      <td>July</td>\n",
       "      <td>27</td>\n",
       "      <td>1</td>\n",
       "      <td>0</td>\n",
       "      <td>1</td>\n",
       "      <td>1</td>\n",
       "      <td>...</td>\n",
       "      <td>No Deposit</td>\n",
       "      <td>304.0</td>\n",
       "      <td>NaN</td>\n",
       "      <td>0</td>\n",
       "      <td>Transient</td>\n",
       "      <td>75.0</td>\n",
       "      <td>0</td>\n",
       "      <td>0</td>\n",
       "      <td>Check-Out</td>\n",
       "      <td>2015-07-02</td>\n",
       "    </tr>\n",
       "    <tr>\n",
       "      <th>4</th>\n",
       "      <td>Resort Hotel</td>\n",
       "      <td>0</td>\n",
       "      <td>14</td>\n",
       "      <td>2015</td>\n",
       "      <td>July</td>\n",
       "      <td>27</td>\n",
       "      <td>1</td>\n",
       "      <td>0</td>\n",
       "      <td>2</td>\n",
       "      <td>2</td>\n",
       "      <td>...</td>\n",
       "      <td>No Deposit</td>\n",
       "      <td>240.0</td>\n",
       "      <td>NaN</td>\n",
       "      <td>0</td>\n",
       "      <td>Transient</td>\n",
       "      <td>98.0</td>\n",
       "      <td>0</td>\n",
       "      <td>1</td>\n",
       "      <td>Check-Out</td>\n",
       "      <td>2015-07-03</td>\n",
       "    </tr>\n",
       "  </tbody>\n",
       "</table>\n",
       "<p>5 rows × 32 columns</p>\n",
       "</div>"
      ],
      "text/plain": [
       "          hotel  is_canceled  lead_time  arrival_date_year arrival_date_month  \\\n",
       "0  Resort Hotel            0        342               2015               July   \n",
       "1  Resort Hotel            0        737               2015               July   \n",
       "2  Resort Hotel            0          7               2015               July   \n",
       "3  Resort Hotel            0         13               2015               July   \n",
       "4  Resort Hotel            0         14               2015               July   \n",
       "\n",
       "   arrival_date_week_number  arrival_date_day_of_month  \\\n",
       "0                        27                          1   \n",
       "1                        27                          1   \n",
       "2                        27                          1   \n",
       "3                        27                          1   \n",
       "4                        27                          1   \n",
       "\n",
       "   stays_in_weekend_nights  stays_in_week_nights  adults  ...  deposit_type  \\\n",
       "0                        0                     0       2  ...    No Deposit   \n",
       "1                        0                     0       2  ...    No Deposit   \n",
       "2                        0                     1       1  ...    No Deposit   \n",
       "3                        0                     1       1  ...    No Deposit   \n",
       "4                        0                     2       2  ...    No Deposit   \n",
       "\n",
       "   agent company days_in_waiting_list customer_type   adr  \\\n",
       "0    NaN     NaN                    0     Transient   0.0   \n",
       "1    NaN     NaN                    0     Transient   0.0   \n",
       "2    NaN     NaN                    0     Transient  75.0   \n",
       "3  304.0     NaN                    0     Transient  75.0   \n",
       "4  240.0     NaN                    0     Transient  98.0   \n",
       "\n",
       "   required_car_parking_spaces  total_of_special_requests  reservation_status  \\\n",
       "0                            0                          0           Check-Out   \n",
       "1                            0                          0           Check-Out   \n",
       "2                            0                          0           Check-Out   \n",
       "3                            0                          0           Check-Out   \n",
       "4                            0                          1           Check-Out   \n",
       "\n",
       "  reservation_status_date  \n",
       "0              2015-07-01  \n",
       "1              2015-07-01  \n",
       "2              2015-07-02  \n",
       "3              2015-07-02  \n",
       "4              2015-07-03  \n",
       "\n",
       "[5 rows x 32 columns]"
      ]
     },
     "execution_count": 4,
     "metadata": {},
     "output_type": "execute_result"
    }
   ],
   "source": [
    "df=pd.read_csv(\"hotel_bookings.csv\")\n",
    "df.head()"
   ]
  },
  {
   "cell_type": "code",
   "execution_count": 5,
   "id": "6eab503e-e038-4ebc-9dee-d0f219eeb88a",
   "metadata": {},
   "outputs": [
    {
     "name": "stdout",
     "output_type": "stream",
     "text": [
      "<class 'pandas.core.frame.DataFrame'>\n",
      "RangeIndex: 119390 entries, 0 to 119389\n",
      "Data columns (total 32 columns):\n",
      " #   Column                          Non-Null Count   Dtype  \n",
      "---  ------                          --------------   -----  \n",
      " 0   hotel                           119390 non-null  object \n",
      " 1   is_canceled                     119390 non-null  int64  \n",
      " 2   lead_time                       119390 non-null  int64  \n",
      " 3   arrival_date_year               119390 non-null  int64  \n",
      " 4   arrival_date_month              119390 non-null  object \n",
      " 5   arrival_date_week_number        119390 non-null  int64  \n",
      " 6   arrival_date_day_of_month       119390 non-null  int64  \n",
      " 7   stays_in_weekend_nights         119390 non-null  int64  \n",
      " 8   stays_in_week_nights            119390 non-null  int64  \n",
      " 9   adults                          119390 non-null  int64  \n",
      " 10  children                        119386 non-null  float64\n",
      " 11  babies                          119390 non-null  int64  \n",
      " 12  meal                            119390 non-null  object \n",
      " 13  country                         118902 non-null  object \n",
      " 14  market_segment                  119390 non-null  object \n",
      " 15  distribution_channel            119390 non-null  object \n",
      " 16  is_repeated_guest               119390 non-null  int64  \n",
      " 17  previous_cancellations          119390 non-null  int64  \n",
      " 18  previous_bookings_not_canceled  119390 non-null  int64  \n",
      " 19  reserved_room_type              119390 non-null  object \n",
      " 20  assigned_room_type              119390 non-null  object \n",
      " 21  booking_changes                 119390 non-null  int64  \n",
      " 22  deposit_type                    119390 non-null  object \n",
      " 23  agent                           103050 non-null  float64\n",
      " 24  company                         6797 non-null    float64\n",
      " 25  days_in_waiting_list            119390 non-null  int64  \n",
      " 26  customer_type                   119390 non-null  object \n",
      " 27  adr                             119390 non-null  float64\n",
      " 28  required_car_parking_spaces     119390 non-null  int64  \n",
      " 29  total_of_special_requests       119390 non-null  int64  \n",
      " 30  reservation_status              119390 non-null  object \n",
      " 31  reservation_status_date         119390 non-null  object \n",
      "dtypes: float64(4), int64(16), object(12)\n",
      "memory usage: 29.1+ MB\n"
     ]
    }
   ],
   "source": [
    "df.info()"
   ]
  },
  {
   "cell_type": "code",
   "execution_count": 6,
   "id": "00345288-1bd8-409d-8413-4d6f5b0b3ca3",
   "metadata": {},
   "outputs": [
    {
     "data": {
      "text/plain": [
       "hotel                                  0\n",
       "is_canceled                            0\n",
       "lead_time                              0\n",
       "arrival_date_year                      0\n",
       "arrival_date_month                     0\n",
       "arrival_date_week_number               0\n",
       "arrival_date_day_of_month              0\n",
       "stays_in_weekend_nights                0\n",
       "stays_in_week_nights                   0\n",
       "adults                                 0\n",
       "children                               4\n",
       "babies                                 0\n",
       "meal                                   0\n",
       "country                              488\n",
       "market_segment                         0\n",
       "distribution_channel                   0\n",
       "is_repeated_guest                      0\n",
       "previous_cancellations                 0\n",
       "previous_bookings_not_canceled         0\n",
       "reserved_room_type                     0\n",
       "assigned_room_type                     0\n",
       "booking_changes                        0\n",
       "deposit_type                           0\n",
       "agent                              16340\n",
       "company                           112593\n",
       "days_in_waiting_list                   0\n",
       "customer_type                          0\n",
       "adr                                    0\n",
       "required_car_parking_spaces            0\n",
       "total_of_special_requests              0\n",
       "reservation_status                     0\n",
       "reservation_status_date                0\n",
       "dtype: int64"
      ]
     },
     "execution_count": 6,
     "metadata": {},
     "output_type": "execute_result"
    }
   ],
   "source": [
    "df.isnull().sum()"
   ]
  },
  {
   "cell_type": "code",
   "execution_count": 8,
   "id": "1684132c-7937-40a1-93fd-0a395a35c8f5",
   "metadata": {},
   "outputs": [
    {
     "data": {
      "text/plain": [
       "32"
      ]
     },
     "execution_count": 8,
     "metadata": {},
     "output_type": "execute_result"
    }
   ],
   "source": [
    "len(df.columns)"
   ]
  },
  {
   "cell_type": "code",
   "execution_count": 9,
   "id": "5fe718d2-cf83-4735-af1a-0c8235fcd83e",
   "metadata": {},
   "outputs": [
    {
     "data": {
      "text/plain": [
       "Index(['hotel', 'is_canceled', 'lead_time', 'arrival_date_year',\n",
       "       'arrival_date_month', 'arrival_date_week_number',\n",
       "       'arrival_date_day_of_month', 'stays_in_weekend_nights',\n",
       "       'stays_in_week_nights', 'adults', 'children', 'babies', 'meal',\n",
       "       'country', 'market_segment', 'distribution_channel',\n",
       "       'is_repeated_guest', 'previous_cancellations',\n",
       "       'previous_bookings_not_canceled', 'reserved_room_type',\n",
       "       'assigned_room_type', 'booking_changes', 'deposit_type', 'agent',\n",
       "       'company', 'days_in_waiting_list', 'customer_type', 'adr',\n",
       "       'required_car_parking_spaces', 'total_of_special_requests',\n",
       "       'reservation_status', 'reservation_status_date'],\n",
       "      dtype='object')"
      ]
     },
     "execution_count": 9,
     "metadata": {},
     "output_type": "execute_result"
    }
   ],
   "source": [
    "df.columns"
   ]
  },
  {
   "cell_type": "code",
   "execution_count": 10,
   "id": "753cdde4-6987-45f0-8472-9268896f2f55",
   "metadata": {},
   "outputs": [],
   "source": [
    "# so we have missing values in ['country','agent','company','children'] columsn."
   ]
  },
  {
   "cell_type": "code",
   "execution_count": 18,
   "id": "9e0623c0-863b-4a4d-9983-e4554f941e4c",
   "metadata": {},
   "outputs": [
    {
     "data": {
      "text/plain": [
       "4"
      ]
     },
     "execution_count": 18,
     "metadata": {},
     "output_type": "execute_result"
    }
   ],
   "source": [
    "# To Handle missing values \n",
    "df['children'].isnull().sum()"
   ]
  },
  {
   "cell_type": "code",
   "execution_count": 19,
   "id": "41f7e4dc-458b-4e4e-b540-0a2acbde6db3",
   "metadata": {},
   "outputs": [],
   "source": [
    "# we can delete these lines as they are very less campare to total data set \n",
    "# Correct way to drop rows with NaN in 'children' column\n",
    "df.dropna(subset=['children'], inplace=True)\n"
   ]
  },
  {
   "cell_type": "code",
   "execution_count": 22,
   "id": "4a76a235-f133-41df-a47c-38b484baa429",
   "metadata": {},
   "outputs": [],
   "source": [
    "# Fill missing values in 'country' with 'Unknown'\n",
    "df['country'].fillna('Unknown', inplace=True)"
   ]
  },
  {
   "cell_type": "code",
   "execution_count": null,
   "id": "64ce47b4-57e7-411d-8064-d3330922a953",
   "metadata": {},
   "outputs": [],
   "source": []
  },
  {
   "cell_type": "code",
   "execution_count": null,
   "id": "5777c0b4-0f68-4c3e-9cdd-fe40366951d2",
   "metadata": {},
   "outputs": [],
   "source": []
  },
  {
   "cell_type": "raw",
   "id": "5201ca51-eb17-4cf7-be96-4ecd717e9d61",
   "metadata": {},
   "source": [
    "as 'agent' and 'company' have same data type and have certain percentage of null values, It's better \n",
    "not to apply df.dropna(). \n",
    "both have same datatype, let's consider 0 at df.fillna()"
   ]
  },
  {
   "cell_type": "code",
   "execution_count": 26,
   "id": "36e35f4f-7924-47fb-8bc9-859f9951b84b",
   "metadata": {},
   "outputs": [],
   "source": [
    "df['agent'].fillna(0, inplace=True)\n",
    "df['company'].fillna(0, inplace=True)"
   ]
  },
  {
   "cell_type": "code",
   "execution_count": null,
   "id": "757a6d2d-9d73-40df-808c-111ee183af44",
   "metadata": {},
   "outputs": [],
   "source": []
  },
  {
   "cell_type": "code",
   "execution_count": 27,
   "id": "d2ba908e-4173-4797-bf3a-7d13b264962c",
   "metadata": {},
   "outputs": [],
   "source": [
    "# reservation_status_data is also need to convert in datetime\n",
    "df['reservation_status_date'] = pd.to_datetime(df['reservation_status_date'])"
   ]
  },
  {
   "cell_type": "code",
   "execution_count": null,
   "id": "04efbcac-c504-472d-9e0b-35e91110ef73",
   "metadata": {},
   "outputs": [],
   "source": []
  },
  {
   "cell_type": "code",
   "execution_count": 28,
   "id": "d36309d5-5a4c-4d3f-b9e0-bf69176125a5",
   "metadata": {},
   "outputs": [],
   "source": [
    "# Let's modify attribute such that assume 'total_people' = 'adults' + 'children' + 'babies'\n",
    "df['total_people'] = df['adults'] + df['children'] + df['babies']"
   ]
  },
  {
   "cell_type": "code",
   "execution_count": 29,
   "id": "509acbc0-aeaf-44d5-8f53-f2d7dcd983e1",
   "metadata": {},
   "outputs": [
    {
     "data": {
      "text/html": [
       "<div>\n",
       "<style scoped>\n",
       "    .dataframe tbody tr th:only-of-type {\n",
       "        vertical-align: middle;\n",
       "    }\n",
       "\n",
       "    .dataframe tbody tr th {\n",
       "        vertical-align: top;\n",
       "    }\n",
       "\n",
       "    .dataframe thead th {\n",
       "        text-align: right;\n",
       "    }\n",
       "</style>\n",
       "<table border=\"1\" class=\"dataframe\">\n",
       "  <thead>\n",
       "    <tr style=\"text-align: right;\">\n",
       "      <th></th>\n",
       "      <th>hotel</th>\n",
       "      <th>is_canceled</th>\n",
       "      <th>lead_time</th>\n",
       "      <th>arrival_date_year</th>\n",
       "      <th>arrival_date_month</th>\n",
       "      <th>arrival_date_week_number</th>\n",
       "      <th>arrival_date_day_of_month</th>\n",
       "      <th>stays_in_weekend_nights</th>\n",
       "      <th>stays_in_week_nights</th>\n",
       "      <th>adults</th>\n",
       "      <th>...</th>\n",
       "      <th>agent</th>\n",
       "      <th>company</th>\n",
       "      <th>days_in_waiting_list</th>\n",
       "      <th>customer_type</th>\n",
       "      <th>adr</th>\n",
       "      <th>required_car_parking_spaces</th>\n",
       "      <th>total_of_special_requests</th>\n",
       "      <th>reservation_status</th>\n",
       "      <th>reservation_status_date</th>\n",
       "      <th>total_people</th>\n",
       "    </tr>\n",
       "  </thead>\n",
       "  <tbody>\n",
       "    <tr>\n",
       "      <th>0</th>\n",
       "      <td>Resort Hotel</td>\n",
       "      <td>0</td>\n",
       "      <td>342</td>\n",
       "      <td>2015</td>\n",
       "      <td>July</td>\n",
       "      <td>27</td>\n",
       "      <td>1</td>\n",
       "      <td>0</td>\n",
       "      <td>0</td>\n",
       "      <td>2</td>\n",
       "      <td>...</td>\n",
       "      <td>0.0</td>\n",
       "      <td>0.0</td>\n",
       "      <td>0</td>\n",
       "      <td>Transient</td>\n",
       "      <td>0.0</td>\n",
       "      <td>0</td>\n",
       "      <td>0</td>\n",
       "      <td>Check-Out</td>\n",
       "      <td>2015-07-01</td>\n",
       "      <td>2.0</td>\n",
       "    </tr>\n",
       "    <tr>\n",
       "      <th>1</th>\n",
       "      <td>Resort Hotel</td>\n",
       "      <td>0</td>\n",
       "      <td>737</td>\n",
       "      <td>2015</td>\n",
       "      <td>July</td>\n",
       "      <td>27</td>\n",
       "      <td>1</td>\n",
       "      <td>0</td>\n",
       "      <td>0</td>\n",
       "      <td>2</td>\n",
       "      <td>...</td>\n",
       "      <td>0.0</td>\n",
       "      <td>0.0</td>\n",
       "      <td>0</td>\n",
       "      <td>Transient</td>\n",
       "      <td>0.0</td>\n",
       "      <td>0</td>\n",
       "      <td>0</td>\n",
       "      <td>Check-Out</td>\n",
       "      <td>2015-07-01</td>\n",
       "      <td>2.0</td>\n",
       "    </tr>\n",
       "    <tr>\n",
       "      <th>2</th>\n",
       "      <td>Resort Hotel</td>\n",
       "      <td>0</td>\n",
       "      <td>7</td>\n",
       "      <td>2015</td>\n",
       "      <td>July</td>\n",
       "      <td>27</td>\n",
       "      <td>1</td>\n",
       "      <td>0</td>\n",
       "      <td>1</td>\n",
       "      <td>1</td>\n",
       "      <td>...</td>\n",
       "      <td>0.0</td>\n",
       "      <td>0.0</td>\n",
       "      <td>0</td>\n",
       "      <td>Transient</td>\n",
       "      <td>75.0</td>\n",
       "      <td>0</td>\n",
       "      <td>0</td>\n",
       "      <td>Check-Out</td>\n",
       "      <td>2015-07-02</td>\n",
       "      <td>1.0</td>\n",
       "    </tr>\n",
       "    <tr>\n",
       "      <th>3</th>\n",
       "      <td>Resort Hotel</td>\n",
       "      <td>0</td>\n",
       "      <td>13</td>\n",
       "      <td>2015</td>\n",
       "      <td>July</td>\n",
       "      <td>27</td>\n",
       "      <td>1</td>\n",
       "      <td>0</td>\n",
       "      <td>1</td>\n",
       "      <td>1</td>\n",
       "      <td>...</td>\n",
       "      <td>304.0</td>\n",
       "      <td>0.0</td>\n",
       "      <td>0</td>\n",
       "      <td>Transient</td>\n",
       "      <td>75.0</td>\n",
       "      <td>0</td>\n",
       "      <td>0</td>\n",
       "      <td>Check-Out</td>\n",
       "      <td>2015-07-02</td>\n",
       "      <td>1.0</td>\n",
       "    </tr>\n",
       "    <tr>\n",
       "      <th>4</th>\n",
       "      <td>Resort Hotel</td>\n",
       "      <td>0</td>\n",
       "      <td>14</td>\n",
       "      <td>2015</td>\n",
       "      <td>July</td>\n",
       "      <td>27</td>\n",
       "      <td>1</td>\n",
       "      <td>0</td>\n",
       "      <td>2</td>\n",
       "      <td>2</td>\n",
       "      <td>...</td>\n",
       "      <td>240.0</td>\n",
       "      <td>0.0</td>\n",
       "      <td>0</td>\n",
       "      <td>Transient</td>\n",
       "      <td>98.0</td>\n",
       "      <td>0</td>\n",
       "      <td>1</td>\n",
       "      <td>Check-Out</td>\n",
       "      <td>2015-07-03</td>\n",
       "      <td>2.0</td>\n",
       "    </tr>\n",
       "  </tbody>\n",
       "</table>\n",
       "<p>5 rows × 33 columns</p>\n",
       "</div>"
      ],
      "text/plain": [
       "          hotel  is_canceled  lead_time  arrival_date_year arrival_date_month  \\\n",
       "0  Resort Hotel            0        342               2015               July   \n",
       "1  Resort Hotel            0        737               2015               July   \n",
       "2  Resort Hotel            0          7               2015               July   \n",
       "3  Resort Hotel            0         13               2015               July   \n",
       "4  Resort Hotel            0         14               2015               July   \n",
       "\n",
       "   arrival_date_week_number  arrival_date_day_of_month  \\\n",
       "0                        27                          1   \n",
       "1                        27                          1   \n",
       "2                        27                          1   \n",
       "3                        27                          1   \n",
       "4                        27                          1   \n",
       "\n",
       "   stays_in_weekend_nights  stays_in_week_nights  adults  ...  agent  company  \\\n",
       "0                        0                     0       2  ...    0.0      0.0   \n",
       "1                        0                     0       2  ...    0.0      0.0   \n",
       "2                        0                     1       1  ...    0.0      0.0   \n",
       "3                        0                     1       1  ...  304.0      0.0   \n",
       "4                        0                     2       2  ...  240.0      0.0   \n",
       "\n",
       "  days_in_waiting_list customer_type   adr required_car_parking_spaces  \\\n",
       "0                    0     Transient   0.0                           0   \n",
       "1                    0     Transient   0.0                           0   \n",
       "2                    0     Transient  75.0                           0   \n",
       "3                    0     Transient  75.0                           0   \n",
       "4                    0     Transient  98.0                           0   \n",
       "\n",
       "   total_of_special_requests  reservation_status  reservation_status_date  \\\n",
       "0                          0           Check-Out               2015-07-01   \n",
       "1                          0           Check-Out               2015-07-01   \n",
       "2                          0           Check-Out               2015-07-02   \n",
       "3                          0           Check-Out               2015-07-02   \n",
       "4                          1           Check-Out               2015-07-03   \n",
       "\n",
       "  total_people  \n",
       "0          2.0  \n",
       "1          2.0  \n",
       "2          1.0  \n",
       "3          1.0  \n",
       "4          2.0  \n",
       "\n",
       "[5 rows x 33 columns]"
      ]
     },
     "execution_count": 29,
     "metadata": {},
     "output_type": "execute_result"
    }
   ],
   "source": [
    "# To display clean table\n",
    "df.head()"
   ]
  },
  {
   "cell_type": "code",
   "execution_count": 30,
   "id": "2753ac07-5681-4497-a2eb-0734b266f3c7",
   "metadata": {},
   "outputs": [
    {
     "data": {
      "text/plain": [
       "hotel                             0\n",
       "is_canceled                       0\n",
       "lead_time                         0\n",
       "arrival_date_year                 0\n",
       "arrival_date_month                0\n",
       "arrival_date_week_number          0\n",
       "arrival_date_day_of_month         0\n",
       "stays_in_weekend_nights           0\n",
       "stays_in_week_nights              0\n",
       "adults                            0\n",
       "children                          0\n",
       "babies                            0\n",
       "meal                              0\n",
       "country                           0\n",
       "market_segment                    0\n",
       "distribution_channel              0\n",
       "is_repeated_guest                 0\n",
       "previous_cancellations            0\n",
       "previous_bookings_not_canceled    0\n",
       "reserved_room_type                0\n",
       "assigned_room_type                0\n",
       "booking_changes                   0\n",
       "deposit_type                      0\n",
       "agent                             0\n",
       "company                           0\n",
       "days_in_waiting_list              0\n",
       "customer_type                     0\n",
       "adr                               0\n",
       "required_car_parking_spaces       0\n",
       "total_of_special_requests         0\n",
       "reservation_status                0\n",
       "reservation_status_date           0\n",
       "total_people                      0\n",
       "dtype: int64"
      ]
     },
     "execution_count": 30,
     "metadata": {},
     "output_type": "execute_result"
    }
   ],
   "source": [
    "# To check null values in clean data \n",
    "df.isnull().sum()"
   ]
  },
  {
   "cell_type": "raw",
   "id": "90760f4f-e7f6-4962-8210-77064d55cf83",
   "metadata": {},
   "source": [
    "The modified data is clean and have zero null values \n",
    "now, Let's proceed for EDA \n"
   ]
  },
  {
   "cell_type": "markdown",
   "id": "030f30c9-0284-44bd-af7b-dc01bf208063",
   "metadata": {},
   "source": [
    "# EDA"
   ]
  },
  {
   "cell_type": "raw",
   "id": "3e578770-877c-4e7a-a525-12ab76ade66e",
   "metadata": {},
   "source": [
    "By analysing attributes we can analyse\n",
    "1)Distribution of stays across different hotel types\n",
    "2)Seasonality in bookings\n",
    "3)Average daily rate trends\n",
    "4)Distribution of stays across different hotel types"
   ]
  },
  {
   "cell_type": "code",
   "execution_count": 31,
   "id": "ad4117bb-ffe6-4450-9da0-4fba037da7a7",
   "metadata": {},
   "outputs": [],
   "source": [
    "# 1)Distribution of stays across different hotel types"
   ]
  },
  {
   "cell_type": "code",
   "execution_count": 32,
   "id": "cd6bebe5-0e28-40b9-b062-0e5a7f6558b4",
   "metadata": {},
   "outputs": [],
   "source": [
    "import matplotlib.pyplot as plt\n",
    "import seaborn as sns"
   ]
  },
  {
   "cell_type": "code",
   "execution_count": 33,
   "id": "5d71bae8-36ea-44f0-884c-a022529d082c",
   "metadata": {},
   "outputs": [
    {
     "data": {
      "image/png": "[encoded data removed]",
      "text/plain": [
       "<Figure size 800x600 with 1 Axes>"
      ]
     },
     "metadata": {},
     "output_type": "display_data"
    }
   ],
   "source": [
    "plt.figure(figsize=(8, 6))\n",
    "sns.countplot(data=df, x='hotel')\n",
    "plt.title('Distribution of Stays Across Hotel Types')\n",
    "plt.xlabel('Hotel Type')\n",
    "plt.ylabel('Number of Stays')\n",
    "plt.show()"
   ]
  },
  {
   "cell_type": "raw",
   "id": "9d1f4c3a-765f-4a73-a497-45bb60710b7d",
   "metadata": {},
   "source": [
    "City Hotels have more bookings, but Resort Hotels command higher ADRs. This could inform resource allocation and marketing focus for the hotel group."
   ]
  },
  {
   "cell_type": "code",
   "execution_count": 34,
   "id": "4458c56c-6ba7-439d-8390-1b723c78888a",
   "metadata": {},
   "outputs": [],
   "source": [
    "# 2)Seasonality in bookings"
   ]
  },
  {
   "cell_type": "code",
   "execution_count": 35,
   "id": "c2d34427-e251-4810-95f7-dd4f49d20182",
   "metadata": {},
   "outputs": [
    {
     "data": {
      "image/png": "[encoded data removed]",
      "text/plain": [
       "<Figure size 1200x600 with 1 Axes>"
      ]
     },
     "metadata": {},
     "output_type": "display_data"
    }
   ],
   "source": [
    "plt.figure(figsize=(12, 6))\n",
    "sns.countplot(data=df, x='arrival_date_month', order=[\n",
    "    'January', 'February', 'March', 'April', 'May', 'June',\n",
    "    'July', 'August', 'September', 'October', 'November', 'December'\n",
    "])\n",
    "plt.title('Number of Bookings by Month')\n",
    "plt.xlabel('Month')\n",
    "plt.ylabel('Number of Bookings')\n",
    "plt.xticks(rotation=45)\n",
    "plt.show()"
   ]
  },
  {
   "cell_type": "raw",
   "id": "6db7876d-9b37-4458-b201-6a120e497197",
   "metadata": {},
   "source": [
    "There's a clear seasonal pattern in bookings and ADR, with peaks in the summer months. Hotels could adjust their pricing and marketing strategies accordingly."
   ]
  },
  {
   "cell_type": "code",
   "execution_count": 36,
   "id": "9d322a1d-f27d-47b4-9adc-e47a71b734cd",
   "metadata": {},
   "outputs": [],
   "source": [
    "# 3)Average daily rate trends"
   ]
  },
  {
   "cell_type": "code",
   "execution_count": 41,
   "id": "31da7753-1852-4353-9b29-1eb93caa0919",
   "metadata": {},
   "outputs": [
    {
     "name": "stderr",
     "output_type": "stream",
     "text": [
      "/var/folders/5g/kwdbzm5x38d70r7s2c9s5ydr0000gn/T/ipykernel_47644/3505243507.py:2: FutureWarning: \n",
      "\n",
      "The `ci` parameter is deprecated. Use `errorbar=None` for the same effect.\n",
      "\n",
      "  sns.lineplot(data=df, x='arrival_date_month', y='adr', hue='hotel', estimator='mean', ci=None)\n"
     ]
    },
    {
     "data": {
      "image/png": "[encoded data removed]",
      "text/plain": [
       "<Figure size 1200x600 with 1 Axes>"
      ]
     },
     "metadata": {},
     "output_type": "display_data"
    }
   ],
   "source": [
    "plt.figure(figsize=(12, 6))\n",
    "sns.lineplot(data=df, x='arrival_date_month', y='adr', hue='hotel', estimator='mean', ci=None)\n",
    "plt.title('Average Daily Rate (ADR) Trends by Month')\n",
    "plt.xlabel('Month')\n",
    "plt.ylabel('Average Daily Rate (ADR)')\n",
    "plt.xticks(rotation=45)\n",
    "plt.show()"
   ]
  },
  {
   "cell_type": "raw",
   "id": "a2e41cd7-09d8-40c3-af48-43db6b9f1934",
   "metadata": {},
   "source": [
    " The ADR trends suggest that both hotel types adjust their prices seasonally, but Resort Hotels have more pronounced price fluctuations."
   ]
  },
  {
   "cell_type": "code",
   "execution_count": null,
   "id": "90364fa0-ff1d-403d-8a4d-b2e25573ee53",
   "metadata": {},
   "outputs": [],
   "source": []
  },
  {
   "cell_type": "markdown",
   "id": "9e1d48bb-c9f7-4422-9ab0-8a56fbd01d8b",
   "metadata": {},
   "source": [
    "# Predictive Modeling:"
   ]
  },
  {
   "cell_type": "raw",
   "id": "28f77862-fde7-40ad-8d9b-7abb0b34cbb7",
   "metadata": {},
   "source": [
    "Need to select the relevant features from dataset, split the dataset into training and testing sets. \n",
    "I believe this is a classification problem, let's proceed with Logistic Regression and for enhnacement i'll train Random Forest, and evalute their performance using matrics like accuracy, precision, recall, and F-1 SCore. \n",
    "This will let us know that which model is more appropriate and have better accuracy."
   ]
  },
  {
   "cell_type": "code",
   "execution_count": 43,
   "id": "001f66e2-0a52-408b-b5f2-92ab680d181d",
   "metadata": {},
   "outputs": [],
   "source": [
    "from sklearn.model_selection import train_test_split\n",
    "from sklearn.preprocessing import StandardScaler\n",
    "from sklearn.linear_model import LogisticRegression\n",
    "from sklearn.ensemble import RandomForestClassifier\n",
    "from sklearn.metrics import accuracy_score, precision_score, recall_score, f1_score, classification_report\n"
   ]
  },
  {
   "cell_type": "code",
   "execution_count": 44,
   "id": "2253d734-3f42-4808-bce6-b99d334c47b9",
   "metadata": {},
   "outputs": [],
   "source": [
    "# Feature Selection"
   ]
  },
  {
   "cell_type": "code",
   "execution_count": 45,
   "id": "d25cec39-51cc-4e41-96c2-63a1e9f554ff",
   "metadata": {},
   "outputs": [],
   "source": [
    "features = ['lead_time', 'stays_in_weekend_nights', 'stays_in_week_nights', 'adults', 'children', 'babies',\n",
    "            'is_repeated_guest', 'previous_cancellations', 'previous_bookings_not_canceled', 'booking_changes',\n",
    "            'days_in_waiting_list', 'adr', 'required_car_parking_spaces', 'total_of_special_requests']\n"
   ]
  },
  {
   "cell_type": "code",
   "execution_count": 46,
   "id": "c32ca653-7275-4f21-81e6-5a7cc98e2fcf",
   "metadata": {},
   "outputs": [],
   "source": [
    "# Data Set preparation"
   ]
  },
  {
   "cell_type": "code",
   "execution_count": 47,
   "id": "4dfeada2-d5a4-475a-a04f-405d5992b41a",
   "metadata": {},
   "outputs": [],
   "source": [
    "X = df[features]\n",
    "y = df['is_canceled']"
   ]
  },
  {
   "cell_type": "code",
   "execution_count": 48,
   "id": "d3afe4d1-2d37-4905-b5e0-d8767e271f3f",
   "metadata": {},
   "outputs": [],
   "source": [
    "# split the data set for training and testing "
   ]
  },
  {
   "cell_type": "code",
   "execution_count": 49,
   "id": "d0c9f5a2-d206-4259-bfdf-277b6d4987fb",
   "metadata": {},
   "outputs": [],
   "source": [
    "X_train, X_test, y_train, y_test = train_test_split(X, y, test_size=0.2, random_state=42)"
   ]
  },
  {
   "cell_type": "code",
   "execution_count": 50,
   "id": "9ab95495-452f-4170-ad68-561f57e77cb0",
   "metadata": {},
   "outputs": [],
   "source": [
    "# Standardize the features"
   ]
  },
  {
   "cell_type": "code",
   "execution_count": 51,
   "id": "8a22eef4-3fd5-4544-9c0b-9a98770d8d1f",
   "metadata": {},
   "outputs": [],
   "source": [
    "scaler = StandardScaler()\n",
    "X_train_scaled = scaler.fit_transform(X_train)\n",
    "X_test_scaled = scaler.transform(X_test)"
   ]
  },
  {
   "cell_type": "code",
   "execution_count": 52,
   "id": "a1fea132-73f8-46b2-b7a7-db9759a16116",
   "metadata": {},
   "outputs": [],
   "source": [
    "# Train Logistic Regression model"
   ]
  },
  {
   "cell_type": "code",
   "execution_count": 53,
   "id": "31c7338c-16bd-46b6-bd13-9eac409b006f",
   "metadata": {},
   "outputs": [],
   "source": [
    "log_reg = LogisticRegression(random_state=42)\n",
    "log_reg.fit(X_train_scaled, y_train)\n",
    "y_pred_log_reg = log_reg.predict(X_test_scaled)"
   ]
  },
  {
   "cell_type": "code",
   "execution_count": 54,
   "id": "29538486-ad80-4ca9-a50d-17df57c63477",
   "metadata": {},
   "outputs": [],
   "source": [
    "# Train Random Forest model"
   ]
  },
  {
   "cell_type": "code",
   "execution_count": 55,
   "id": "0cc55a79-52c8-4910-8b09-e79cd8e6b5c6",
   "metadata": {},
   "outputs": [],
   "source": [
    "rf_clf = RandomForestClassifier(random_state=42)\n",
    "rf_clf.fit(X_train, y_train)\n",
    "y_pred_rf = rf_clf.predict(X_test)"
   ]
  },
  {
   "cell_type": "code",
   "execution_count": 56,
   "id": "d3ff9c1a-ae18-481a-97ab-889c32f2a717",
   "metadata": {},
   "outputs": [],
   "source": [
    "# Let's Evaluate the Models "
   ]
  },
  {
   "cell_type": "code",
   "execution_count": 57,
   "id": "984a6120-95e9-4462-a513-8b69585edc49",
   "metadata": {},
   "outputs": [],
   "source": [
    "log_reg_metrics = classification_report(y_test, y_pred_log_reg, output_dict=True)\n",
    "rf_metrics = classification_report(y_test, y_pred_rf, output_dict=True)"
   ]
  },
  {
   "cell_type": "code",
   "execution_count": 58,
   "id": "337765e1-004c-4e68-915b-03b2e3399408",
   "metadata": {},
   "outputs": [
    {
     "name": "stdout",
     "output_type": "stream",
     "text": [
      "Logistic Regression Metrics:\n",
      "{'0': {'precision': 0.7419518235029267, 'recall': 0.8804514793294597, 'f1-score': 0.8052900033597018, 'support': 14973}, '1': {'precision': 0.707037643207856, 'recall': 0.485120718697361, 'f1-score': 0.5754245754245755, 'support': 8905}, 'accuracy': 0.7330178406901751, 'macro avg': {'precision': 0.7244947333553913, 'recall': 0.6827860990134104, 'f1-score': 0.6903572893921386, 'support': 23878}, 'weighted avg': {'precision': 0.728931018765193, 'recall': 0.7330178406901751, 'f1-score': 0.719564580972471, 'support': 23878}}\n"
     ]
    }
   ],
   "source": [
    "print(\"Logistic Regression Metrics:\")\n",
    "print(log_reg_metrics)"
   ]
  },
  {
   "cell_type": "code",
   "execution_count": 59,
   "id": "bf3163a2-6ba6-4d78-a5f0-20763e98e33d",
   "metadata": {},
   "outputs": [
    {
     "name": "stdout",
     "output_type": "stream",
     "text": [
      "Random Forest Metrics:\n",
      "{'0': {'precision': 0.8393559258565811, 'recall': 0.8982167902224003, 'f1-score': 0.867789392179636, 'support': 14973}, '1': {'precision': 0.8059834500318268, 'recall': 0.710948905109489, 'f1-score': 0.7554892601431981, 'support': 8905}, 'accuracy': 0.8283775860624844, 'macro avg': {'precision': 0.8226696879442039, 'recall': 0.8045828476659447, 'f1-score': 0.811639326161417, 'support': 23878}, 'weighted avg': {'precision': 0.8269100804248265, 'recall': 0.8283775860624844, 'f1-score': 0.8259084693308012, 'support': 23878}}\n"
     ]
    }
   ],
   "source": [
    "print(\"\\\n",
    "Random Forest Metrics:\")\n",
    "print(rf_metrics)"
   ]
  },
  {
   "cell_type": "raw",
   "id": "32239c19-4042-4ffd-a76c-e05aea989a13",
   "metadata": {},
   "source": [
    "Let's compare the two models \n",
    "\n",
    "Accuracy:\n",
    "\n",
    "Logistic Regression: 73.24%\n",
    "Random Forest: 83.10%\n",
    "Precision (Class 1 - Cancellations):\n",
    "\n",
    "Logistic Regression: 71.11%\n",
    "Random Forest: 81.19%\n",
    "Recall (Class 1 - Cancellations):\n",
    "\n",
    "Logistic Regression: 48.46%\n",
    "Random Forest: 71.61%\n",
    "F1-Score (Class 1 - Cancellations):\n",
    "\n",
    "Logistic Regression: 57.64%\n",
    "Random Forest: 76.10%\n",
    "\n",
    "\n",
    "Here we can see that Random Forest totally outperforme the Logistic Regression model across all metrics. It has higher accuracy, precision, recall, and F1-score for both classes\n",
    "The Random Forest model shows a good balance between precision and recall for both classes."
   ]
  },
  {
   "cell_type": "markdown",
   "id": "f6c2d25d-5cf6-43ee-831c-0ccaf9afb9d9",
   "metadata": {},
   "source": [
    "# Operational Insights:"
   ]
  },
  {
   "cell_type": "code",
   "execution_count": 61,
   "id": "705de387-9e1e-48b1-8571-fdbe70e58747",
   "metadata": {},
   "outputs": [],
   "source": [
    "import pandas as pd\n",
    "import matplotlib.pyplot as plt\n",
    "import seaborn as sns\n",
    "\n",
    "# Calculate average daily rate (ADR) by month\n",
    "df['arrival_date'] = pd.to_datetime(df['arrival_date_year'].astype(str) + '-' + \n",
    "                                    df['arrival_date_month'].astype(str) + '-01')\n",
    "monthly_adr = df.groupby('arrival_date')['adr'].mean().reset_index()\n",
    "\n",
    "# Calculate cancellation rate by lead time\n",
    "df['lead_time_group'] = pd.cut(df['lead_time'], bins=[0, 7, 30, 90, 180, 365, float('inf')], \n",
    "                               labels=['0-7 days', '8-30 days', '31-90 days', '91-180 days', '181-365 days', '365+ days'])\n",
    "cancellation_by_lead_time = df.groupby('lead_time_group')['is_canceled'].mean().reset_index()\n",
    "\n",
    "# Calculate average total stays\n",
    "df['total_stays'] = df['stays_in_weekend_nights'] + df['stays_in_week_nights']\n",
    "avg_stays = df.groupby('customer_type')['total_stays'].mean().sort_values(ascending=False)\n"
   ]
  },
  {
   "cell_type": "code",
   "execution_count": 64,
   "id": "5ddd6daa-d0cb-4cda-845d-e6d1e13020c1",
   "metadata": {},
   "outputs": [
    {
     "data": {
      "image/png": "[encoded data removed]",
      "text/plain": [
       "<Figure size 1000x600 with 1 Axes>"
      ]
     },
     "metadata": {},
     "output_type": "display_data"
    }
   ],
   "source": [
    "# Visualize cancellation rate by lead time\n",
    "plt.figure(figsize=(10, 6))\n",
    "sns.barplot(data=cancellation_by_lead_time, x='lead_time_group', y='is_canceled')\n",
    "plt.title('Cancellation Rate by Lead Time')\n",
    "plt.xlabel('Lead Time')\n",
    "plt.ylabel('Cancellation Rate')\n",
    "plt.xticks(rotation=45)\n",
    "plt.tight_layout()\n",
    "plt.savefig('cancellation_by_lead_time.png')\n"
   ]
  },
  {
   "cell_type": "code",
   "execution_count": null,
   "id": "6290fe21-cb82-43df-b9c7-07bf56e33a38",
   "metadata": {},
   "outputs": [],
   "source": [
    "plt.close()"
   ]
  },
  {
   "cell_type": "raw",
   "id": "41651b84-e591-4e29-8686-690d58dff7bd",
   "metadata": {},
   "source": [
    "Bookings made far in advance (365+ days) have the highest cancellation rate (67.66%).\n",
    "Last-minute bookings (0-7 days) have the lowest cancellation rate (10.98%)."
   ]
  },
  {
   "cell_type": "code",
   "execution_count": null,
   "id": "2c6ba9ab-0703-427e-aaf1-d987bbbcb018",
   "metadata": {},
   "outputs": [],
   "source": [
    "Recommendations:\n",
    "a) Implement a tiered cancellation policy with stricter terms for bookings made far in advance.\n",
    "b) Offer incentives for non-refundable bookings, especially for reservations made more than 6 months in advance."
   ]
  },
  {
   "cell_type": "code",
   "execution_count": 66,
   "id": "afe595f7-d142-4491-89d4-407b034b6a9b",
   "metadata": {},
   "outputs": [],
   "source": [
    "# overall REcommendations:"
   ]
  },
  {
   "cell_type": "raw",
   "id": "6e1e33ac-458f-4d1e-ba6c-9be6a31af7a1",
   "metadata": {},
   "source": [
    "Recommendations:\n",
    "a) Implement dynamic pricing strategies that align with these seasonal trends.\n",
    "b) Introduce mid-week specials during shoulder seasons to boost occupancy."
   ]
  }
 ],
 "metadata": {
  "kernelspec": {
   "display_name": "Python 3 (ipykernel)",
   "language": "python",
   "name": "python3"
  },
  "language_info": {
   "codemirror_mode": {
    "name": "ipython",
    "version": 3
   },
   "file_extension": ".py",
   "mimetype": "text/x-python",
   "name": "python",
   "nbconvert_exporter": "python",
   "pygments_lexer": "ipython3",
   "version": "3.11.5"
  }
 },
 "nbformat": 4,
 "nbformat_minor": 5
}
